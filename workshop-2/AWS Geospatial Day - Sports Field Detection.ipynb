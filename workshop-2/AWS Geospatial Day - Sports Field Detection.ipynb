{
 "cells": [
  {
   "cell_type": "markdown",
   "metadata": {},
   "source": [
    "## <span style=\"color: #7b73e2;\" >Start WherobotsDB</span>"
   ]
  },
  {
   "cell_type": "code",
   "execution_count": null,
   "metadata": {},
   "outputs": [],
   "source": [
    "from sedona.spark import SedonaContext\n",
    "from sedona.raster_utils.SedonaUtils import SedonaUtils\n",
    "from sedona.maps.SedonaKepler import SedonaKepler\n",
    "from pyspark.sql.functions import expr\n",
    "\n",
    "config = (\n",
    "    SedonaContext.builder()\n",
    "    .config(\"spark.executor.memory\", \"3600m\")\n",
    "    .getOrCreate()\n",
    ")\n",
    "\n",
    "sedona = SedonaContext.create(config)"
   ]
  },
  {
   "cell_type": "markdown",
   "metadata": {},
   "source": [
    "## <span style=\"color: #7b73e2;\">Load Aerial Imagery Efficiently</span>\n",
    "\n",
    "In this step, we'll load the aerial imagery so we can run <span style=\"color: #7b73e2;\">**inference**</span> in a later step.\n",
    "\n",
    "The GeoTIFF image is large, so we'll split it into tiles and load those tiles as <span style=\"color: #7b73e2;\">**out-of-database**</span> or <span style=\"color: #7b73e2;\">**\\\"out-db\\\" rasters**</span> in **WherobotsDB**."
   ]
  },
  {
   "cell_type": "code",
   "execution_count": null,
   "metadata": {},
   "outputs": [],
   "source": [
    "url = \"s3://wherobots-examples/data/naip/mn/*.tif\"\n",
    "\n",
    "catalog = 'matt'\n",
    "\n",
    " \n",
    "df = sedona.read.format(\"raster\") \\\n",
    "    .option(\"retile\", \"false\").load(url)\n",
    "\n",
    "df.createOrReplaceTempView(\"df\")\n",
    "df.show()"
   ]
  },
  {
   "cell_type": "markdown",
   "metadata": {},
   "source": [
    "## <span style=\"color: #7b73e2;\">Viewing the Model's Imagery Inputs</span>\n",
    "\n",
    "We can see the footprints of the tiled images with the `SedonaKepler.create_map()` integration. Using `SedonaUtils.display_image()` we can view the images as well.\n",
    "\n",
    "<span style=\"color: #7b73e2;;\"> **Tip:** </span>  Save the map to a html file using `kepler_map.save_to_html()`"
   ]
  },
  {
   "cell_type": "code",
   "execution_count": null,
   "metadata": {},
   "outputs": [],
   "source": [
    "kepler_map = SedonaKepler.create_map()\n",
    "df = df.withColumn('footprint', expr(\"ST_TRANSFORM(RS_CONVEXHULL(rast),'EPSG:4326')\"))\n",
    "SedonaKepler.add_df(kepler_map, df=df, name=\"Image Footprints\")\n",
    "\n",
    "kepler_map"
   ]
  },
  {
   "cell_type": "code",
   "execution_count": null,
   "metadata": {},
   "outputs": [],
   "source": [
    "htmlDf = sedona.sql(f\"\"\"SELECT RS_AsImage(rast, 250) as FROM df limit 5\"\"\")\n",
    "SedonaUtils.display_image(htmlDf)"
   ]
  },
  {
   "cell_type": "code",
   "execution_count": null,
   "metadata": {},
   "outputs": [],
   "source": [
    "model_id = \"sam2\"\n",
    "prompt = \"park with a baseball field in it\"\n",
    "threshold = 0.2\n",
    "\n",
    "preds = sedona.sql(\n",
    "    f\"\"\"SELECT rast, RS_TEXT_TO_SEGMENTS('{model_id}', rast, '{prompt}', {threshold}) AS preds from df\"\"\"\n",
    ")\n",
    "preds.cache().count()\n",
    "preds.createOrReplaceTempView(\"preds\")"
   ]
  },
  {
   "cell_type": "code",
   "execution_count": null,
   "metadata": {},
   "outputs": [],
   "source": [
    "preds_filtered = sedona.sql(f\"\"\"\n",
    "  SELECT *\n",
    "  FROM preds\n",
    "  WHERE\n",
    "    size(preds.labels) > 0\n",
    "    AND array_contains(preds.labels, 1)\n",
    "    AND NOT array_contains(preds.segments_wkt, 'POLYGON EMPTY')\n",
    "\"\"\")\n",
    "preds_filtered.createOrReplaceTempView(\"preds_filtered\")\n",
    "preds_filtered.show()"
   ]
  },
  {
   "cell_type": "code",
   "execution_count": null,
   "metadata": {},
   "outputs": [],
   "source": [
    "exploded = sedona.sql(\"\"\"\n",
    "SELECT\n",
    "    rast,\n",
    "    exploded_predictions.*\n",
    "FROM\n",
    "    preds_filtered\n",
    "LATERAL VIEW explode(arrays_zip(preds.segments_wkt, preds.confidence_scores, preds.labels)) AS exploded_predictions\n",
    "WHERE\n",
    "    exploded_predictions.confidence_scores != 0.0\n",
    "\"\"\")\n",
    "exploded.cache().count()\n",
    "exploded.createOrReplaceTempView(\"exploded\")\n",
    "exploded.show()"
   ]
  },
  {
   "cell_type": "code",
   "execution_count": null,
   "metadata": {},
   "outputs": [],
   "source": [
    "exploded.createOrReplaceTempView('exploded')"
   ]
  },
  {
   "cell_type": "code",
   "execution_count": null,
   "metadata": {},
   "outputs": [],
   "source": [
    "catalog = 'matt'\n",
    "sedona.sql(f'CREATE OR REPLACE TABLE wherobots.{catalog}.baseball_parks_sam AS SELECT * FROM exploded')"
   ]
  },
  {
   "cell_type": "code",
   "execution_count": null,
   "metadata": {},
   "outputs": [],
   "source": []
  }
 ],
 "metadata": {
  "kernelspec": {
   "display_name": "Python 3 (ipykernel)",
   "language": "python",
   "name": "python3"
  },
  "language_info": {
   "codemirror_mode": {
    "name": "ipython",
    "version": 3
   },
   "file_extension": ".py",
   "mimetype": "text/x-python",
   "name": "python",
   "nbconvert_exporter": "python",
   "pygments_lexer": "ipython3",
   "version": "3.11.13"
  }
 },
 "nbformat": 4,
 "nbformat_minor": 4
}
