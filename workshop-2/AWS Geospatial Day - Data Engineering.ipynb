{
 "cells": [
  {
   "cell_type": "code",
   "execution_count": null,
   "id": "fa630ff5-1136-41b8-af2a-09e0c5bc2c78",
   "metadata": {},
   "outputs": [],
   "source": [
    "from sedona.spark import SedonaContext\n",
    "\n",
    "config = SedonaContext.builder().getOrCreate()\n",
    "sedona = SedonaContext.create(config)"
   ]
  },
  {
   "cell_type": "code",
   "execution_count": null,
   "id": "c1ecf592-7d05-466a-89bb-7adfde8d8391",
   "metadata": {},
   "outputs": [],
   "source": [
    "catalog = 'matt'"
   ]
  },
  {
   "cell_type": "code",
   "execution_count": null,
   "id": "a0b666e1-6cc8-4a54-a2b8-7f465f3a303d",
   "metadata": {},
   "outputs": [],
   "source": [
    "study_area = 'POLYGON((-93.227839 45.12455, -92.984234 45.12455, -92.984234 44.88727, -93.227839 44.88727, -93.227839 45.12455))'"
   ]
  },
  {
   "cell_type": "code",
   "execution_count": null,
   "id": "e0aeb346-10dd-4b69-acb7-8cbe4f59fb37",
   "metadata": {},
   "outputs": [],
   "source": [
    "# Bronze Tables\n",
    "\n",
    "# Overture Admin Units\n",
    "sedona.sql(f'''\n",
    "CREATE OR REPLACE TABLE wherobots.{catalog}.divison_areas_bronze\n",
    "SELECT * \n",
    "FROM wherobots_open_data.overture_maps_foundation.divisions_division_area\n",
    "WHERE ST_Intersects(\n",
    "    geometry, \n",
    "    ST_GeomFromText('{study_area}'))\n",
    "AND subtype IN ('locality', 'neighborhood')''')"
   ]
  },
  {
   "cell_type": "code",
   "execution_count": null,
   "id": "c9e3341b-6c7f-4c13-a487-8c97764272df",
   "metadata": {},
   "outputs": [],
   "source": [
    "# Buildings as Centroids\n",
    "\n",
    "sedona.sql(f'''\n",
    "CREATE OR REPLACE TABLE wherobots.{catalog}.buildings_bronze\n",
    "SELECT id, class, height, names, ST_Centroid(geometry) as geometry\n",
    "FROM wherobots_open_data.overture_maps_foundation.buildings_building\n",
    "WHERE ST_Intersects(\n",
    "    geometry, \n",
    "    ST_GeomFromText('{study_area}'))\n",
    "''')"
   ]
  },
  {
   "cell_type": "code",
   "execution_count": null,
   "id": "526fc6e8-f6b5-40db-a221-bff9d93babcc",
   "metadata": {},
   "outputs": [],
   "source": [
    "# Baseball Fields as Centroids\n",
    "\n",
    "sedona.sql(f'''\n",
    "CREATE OR REPLACE TABLE wherobots.{catalog}.field_centroids_bronze\n",
    "SELECT\n",
    "    confidence_scores,\n",
    "    ST_GeomFromText(segments_wkt) as geometry\n",
    "FROM\n",
    "    wherobots.{catalog}.baseball_parks_sam preds\n",
    "WHERE\n",
    "    confidence_scores != 0.0\n",
    "\n",
    "''')"
   ]
  },
  {
   "cell_type": "code",
   "execution_count": null,
   "id": "f0251440-1a02-415c-b6ca-e7e1cb30106a",
   "metadata": {},
   "outputs": [],
   "source": [
    "# Silver Tables"
   ]
  },
  {
   "cell_type": "code",
   "execution_count": null,
   "id": "1dcfc635-833b-4601-a3ee-deb03c6e46b7",
   "metadata": {},
   "outputs": [],
   "source": [
    "# Buildings KNN Join\n",
    "\n",
    "sedona.sql(f'''\n",
    "CREATE OR REPLACE TABLE wherobots.{catalog}.buildings_knn_silver AS\n",
    "SELECT\n",
    "    ST_DistanceSphere(a.geometry, b.geometry) as distance,\n",
    "    a.id as building_id, \n",
    "    a.geometry\n",
    "FROM wherobots.{catalog}.buildings_bronze a \n",
    "JOIN wherobots.{catalog}.field_centroids_bronze b\n",
    "ON ST_AKNN(a.geometry, b.geometry, 4, FALSE)\n",
    "''')"
   ]
  },
  {
   "cell_type": "code",
   "execution_count": null,
   "id": "d13d7d7f-b218-4008-95ee-4fba35d5b606",
   "metadata": {},
   "outputs": [],
   "source": [
    "# Gold Tables\n",
    "\n",
    "# KNN Averages and Values\n",
    "\n",
    "sedona.sql(f'''\n",
    "CREATE OR REPLACE TABLE wherobots.{catalog}.neighborhoods_gold AS\n",
    "SELECT \n",
    "    a.id,\n",
    "    AVG(b.distance),\n",
    "    a.geometry\n",
    "FROM wherobots.{catalog}.divison_areas_bronze a\n",
    "JOIN wherobots.{catalog}.buildings_knn_silver b\n",
    "ON ST_Contains(a.geometry, b.geometry)\n",
    "GROUP BY a.id, a.geometry\n",
    "''')"
   ]
  },
  {
   "cell_type": "code",
   "execution_count": null,
   "id": "14aada9a-04c7-4f02-bbfc-3b6f89eafb8f",
   "metadata": {},
   "outputs": [],
   "source": []
  }
 ],
 "metadata": {
  "kernelspec": {
   "display_name": "Python 3 (ipykernel)",
   "language": "python",
   "name": "python3"
  },
  "language_info": {
   "codemirror_mode": {
    "name": "ipython",
    "version": 3
   },
   "file_extension": ".py",
   "mimetype": "text/x-python",
   "name": "python",
   "nbconvert_exporter": "python",
   "pygments_lexer": "ipython3",
   "version": "3.11.13"
  }
 },
 "nbformat": 4,
 "nbformat_minor": 5
}
