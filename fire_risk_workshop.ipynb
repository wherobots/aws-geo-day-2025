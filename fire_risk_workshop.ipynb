{
 "cells": [
  {
   "attachments": {},
   "cell_type": "markdown",
   "id": "76408c52-50a2-4e59-9d1c-04a531ce5210",
   "metadata": {},
   "source": [
    "![Wherobots Logo](https://github.com/SeanLikesData/public_assets/blob/main/header-logo.png?raw=true)\n",
    "# Wildfire Risk Assessment Using Wherobots\n",
    "\n",
    "This tutorial demonstrates how to build a comprehensive wildfire risk assessment model using Wherobots' spatial analytics capabilities. We'll combine USDA Forest Service burn probability data with building footprints and emergency service locations to identify high-risk areas in Southern California.\n",
    "\n",
    "![Wildfire Image](https://github.com/SeanLikesData/public_assets/blob/main/ca_camp_fire.png?raw=true)\n",
    "*2018 Camp Fire in California*\n",
    "\n",
    "## Overview\n",
    "\n",
    "This analysis will:\n",
    "1. Create uniform analysis units using H3 hexagons\n",
    "2. Calculate risk factors including:\n",
    "   - Burn probability from USDA Forest Service models\n",
    "   - Building density from Overture Maps data\n",
    "   - Distance to nearest fire station\n",
    "3. Combine these factors into a weighted risk score\n",
    "4. Identify statistically significant clusters of high-risk areas\n",
    "\n",
    "## Data Sources\n",
    "\n",
    "- **Burn Probability Data**: USDA Forest Service [FSim Fire Probability Dataset](https://www.fs.usda.gov/rds/archive/catalog/RDS-2020-0016-2)\n",
    "- **Overture Maps Foundation**:\n",
    "  - Building footprints\n",
    "  - Fire station locations\n",
    "\n",
    "## Technical Concepts We'll Cover\n",
    "\n",
    "- Loading and processing large raster datasets\n",
    "- Performing spatial joins at scale\n",
    "- Using H3 spatial indexing\n",
    "- Computing zonal statistics\n",
    "- Conducting hot spot analysis\n",
    "- Creating interactive visualizations\n",
    "\n",
    "## Prerequisites\n",
    "\n",
    "- Basic understanding of SQL and Python\n",
    "- Familiarity with geospatial concepts\n",
    "- Access to a Wherobots account"
   ]
  },
  {
   "cell_type": "markdown",
   "id": "48164ae1-47ee-4553-bbca-9c693352c860",
   "metadata": {},
   "source": [
    "# 2. Burn Probability"
   ]
  },
  {
   "cell_type": "markdown",
   "id": "10002e86-e660-44f2-9b01-0aeaf8cffdc1",
   "metadata": {},
   "source": [
    "\n",
    "## Sedona Context\n",
    "\n",
    "When using Wherobots the first step is to create the `Context`. This context represents the connection to the cluster. The first time we set the config and create the `Context` all of the nodes in the cluster are brought on line\n"
   ]
  },
  {
   "cell_type": "code",
   "execution_count": 2,
   "id": "034d734e-c7a8-4217-8438-438be8534214",
   "metadata": {
    "execution": {
     "iopub.execute_input": "2025-09-14T23:31:51.822641Z",
     "iopub.status.busy": "2025-09-14T23:31:51.822503Z",
     "iopub.status.idle": "2025-09-14T23:31:53.443213Z",
     "shell.execute_reply": "2025-09-14T23:31:53.442859Z",
     "shell.execute_reply.started": "2025-09-14T23:31:51.822625Z"
    }
   },
   "outputs": [
    {
     "name": "stderr",
     "output_type": "stream",
     "text": [
      "                                                                                \r"
     ]
    },
    {
     "name": "stdout",
     "output_type": "stream",
     "text": [
      "CPU times: user 6.69 ms, sys: 0 ns, total: 6.69 ms\n",
      "Wall time: 1.62 s\n"
     ]
    }
   ],
   "source": [
    "%%time\n",
    "from sedona.spark import *\n",
    "from pyspark.sql.functions import col, count, when, expr,lit,explode,broadcast, desc\n",
    "from datetime import datetime\n",
    "start = datetime.now()\n",
    "\n",
    "config = SedonaContext.builder(). \\\n",
    "    config(\"spark.hadoop.fs.s3a.bucket.wherobots-examples.aws.credentials.provider\",\"org.apache.hadoop.fs.s3a.AnonymousAWSCredentialsProvider\"). \\\n",
    "    getOrCreate()\n",
    "\n",
    "sedona = SedonaContext.create(config)\n",
    "sedona.sparkContext.setLogLevel(\"ERROR\")"
   ]
  },
  {
   "cell_type": "markdown",
   "id": "70aed5db-9f16-43dd-b226-f0948966c4b4",
   "metadata": {},
   "source": [
    "### Loading the Burn Probability Raster Data\n",
    "We'll start by loading our key input dataset - a burn probability raster from the USDA Forest Service. This raster represents the annual probability of a wildfire burning in any given location. Our analysis will focus on Southern California, specifically excluding parts of Mexico and the Pacific Ocean using a polygon boundary defined in WKT (Well-Known Text) format.\n",
    "\n",
    "![Burn Probability Raster Image](https://github.com/SeanLikesData/public_assets/blob/main/ca-fire.jpg?raw=true)\n",
    "\n",
    "The code below:\n",
    "1. Specifies the S3 path to our burn probability GeoTIFF\n",
    "2. Defines an exclusion area for our study area as a MultiPolygon in WKT format \n",
    "3. Creates a dataframe by reading the raster file\n",
    "\n",
    "### Tiling and Processing the Burn Probability Raster\n",
    "\n",
    "To efficiently process our large burn probability raster, we need to break it into smaller 256x256 pixel tiles. This tiling strategy allows for distributed processing. \n",
    "This process used to require extra steps, but we have recently built it inot our read operation.\n",
    "\n",
    "We then run a SQL query to generate summary stats using `RS_SUMMARYSTATS()`. This creates a tiled dataset with summary statistics for each 256x256 section of our study area, which we'll later combine with other risk factors. "
   ]
  },
  {
   "cell_type": "code",
   "execution_count": 3,
   "id": "7cc5455e-7294-48ed-9ce6-41a681568e69",
   "metadata": {
    "execution": {
     "iopub.execute_input": "2025-09-14T23:31:53.444412Z",
     "iopub.status.busy": "2025-09-14T23:31:53.444265Z",
     "iopub.status.idle": "2025-09-14T23:32:09.969493Z",
     "shell.execute_reply": "2025-09-14T23:32:09.968976Z",
     "shell.execute_reply.started": "2025-09-14T23:31:53.444398Z"
    }
   },
   "outputs": [
    {
     "name": "stderr",
     "output_type": "stream",
     "text": [
      "[Stage 8:========================================================>(95 + 1) / 96]\r"
     ]
    },
    {
     "name": "stdout",
     "output_type": "stream",
     "text": [
      "CPU times: user 30.2 ms, sys: 0 ns, total: 30.2 ms\n",
      "Wall time: 16.5 s\n"
     ]
    },
    {
     "name": "stderr",
     "output_type": "stream",
     "text": [
      "                                                                                \r"
     ]
    },
    {
     "data": {
      "text/plain": [
       "991"
      ]
     },
     "execution_count": 3,
     "metadata": {},
     "output_type": "execute_result"
    }
   ],
   "source": [
    "%%time\n",
    "## Wall time: 14.8 s (LARGE)\n",
    "analysis_start = datetime.now()\n",
    "burn_probability = \"s3://wherobots-examples/data/examples/SDSC/BP-clip-reblock-4326.tif\"\n",
    "exclusion_wkt = \"MultiPolygon (((-119.22425369 31.67241078, -119.03742835 30.92881246, -117.00686077 31.26615639, -117.24927621 32.01643187, -117.36169794 32.50929768, -117.40697765 32.65986814, -117.45368807 32.79856211, -117.50463868 32.9832308, -117.59444643 33.13521645, -117.81002531 33.3313064, -118.16274878 33.51473174, -118.44751165 33.54860864, -118.54278981 33.70994242, -118.62402192 33.86683156, -118.77557516 33.93388227, -118.86933137 33.98250615, -118.89850234 33.97769324, -119.25883116 33.91883788, -119.84475305 33.82227912, -119.35342742 32.16682393, -119.28359676 31.88814932, -119.22425369 31.67241078)))\"\n",
    "\n",
    "burn_probability_df = (sedona.read.format(\"raster\")\n",
    "                             .option(\"retile\", True)\n",
    "                             .option(\"tileWidth\",256)\n",
    "                             .option(\"tileHeight\",256)\n",
    "                             .load(burn_probability)\n",
    "                             .where(f\"\"\"ST_INTERSECTS(RS_ENVELOPE(rast), ST_GEOMFROMWKT('{exclusion_wkt}')) = False\"\"\"))\n",
    "\n",
    "burn_probability_df.createOrReplaceTempView(\"burn_probability\")\n",
    "\n",
    "burn_probability_df_tiled = sedona.sql(f\"\"\" \n",
    "SELECT\n",
    "    *, \n",
    "    RS_SUMMARYSTATS(rast,'max') as max_bp,\n",
    "    RS_SUMMARYSTATS(rast,'mean') as mean_bp, \n",
    "    RS_SUMMARYSTATS(rast,'min') as min_bp\n",
    "from burn_probability \n",
    "where  RS_SUMMARYSTATS(rast, 'count') > 0\n",
    "\"\"\"\n",
    "                                )\n",
    "burn_probability_df_tiled.createOrReplaceTempView(\"burn_probability_tiled\")\n",
    "burn_probability_df_tiled.count()"
   ]
  },
  {
   "cell_type": "markdown",
   "id": "3ca34693-bcb1-4bb2-9106-3f221eabe6e9",
   "metadata": {
    "execution": {
     "iopub.execute_input": "2025-03-04T03:56:18.407107Z",
     "iopub.status.busy": "2025-03-04T03:56:18.406901Z",
     "iopub.status.idle": "2025-03-04T03:56:18.412236Z",
     "shell.execute_reply": "2025-03-04T03:56:18.411776Z",
     "shell.execute_reply.started": "2025-03-04T03:56:18.407091Z"
    }
   },
   "source": [
    "<img src=\"./assets/exclusion.png\" width=\"600\">\n",
    "<i>Visual of our exclusion area</i>"
   ]
  },
  {
   "cell_type": "markdown",
   "id": "03885359-9760-48e8-8172-4636224e458a",
   "metadata": {},
   "source": [
    "### Examining the Tiled Burn Probability Data\n",
    "\n",
    "Let's look at a sample of the tiled data to understand the structure and values we're working with. For each tile (referenced by its x,y coordinates), we'll see:\n",
    "\n",
    "- mean_bp: The average burn probability in the tile\n",
    "- max_bp: The highest burn probability value in the tile  \n",
    "- min_bp: The lowest burn probability value in the tile\n",
    "\n",
    "These probability values are between 0 and 1, where higher values indicate a greater chance of wildfire. The values are in scientific notation - for example, 1.67E-4 means 0.000167 or about a 0.0167% annual probability of burning."
   ]
  },
  {
   "cell_type": "code",
   "execution_count": 4,
   "id": "6d5198ec-2946-4fee-8be3-e64943ea744c",
   "metadata": {
    "execution": {
     "iopub.execute_input": "2025-09-14T23:32:09.970348Z",
     "iopub.status.busy": "2025-09-14T23:32:09.970155Z",
     "iopub.status.idle": "2025-09-14T23:32:11.037516Z",
     "shell.execute_reply": "2025-09-14T23:32:11.036938Z",
     "shell.execute_reply.started": "2025-09-14T23:32:09.970328Z"
    }
   },
   "outputs": [
    {
     "name": "stdout",
     "output_type": "stream",
     "text": [
      "+---+---+---------------------+---------------------+---------------------+\n",
      "|x  |y  |mean_bp              |max_bp               |min_bp               |\n",
      "+---+---+---------------------+---------------------+---------------------+\n",
      "|34 |1  |0.0015406080794939543|0.00225593033246696  |3.5467493580654263E-4|\n",
      "|26 |16 |0.0069544134670318294|0.034708503633737564 |0.0                  |\n",
      "|39 |11 |4.4839653100307435E-4|0.0016230391338467598|0.0                  |\n",
      "|27 |13 |0.006816646234578463 |0.014586788602173328 |0.0                  |\n",
      "|40 |3  |4.828258165987531E-4 |7.410030229948461E-4 |9.907162166200578E-5 |\n",
      "|20 |18 |0.0024328396763276783|0.014860003255307674 |0.0                  |\n",
      "|6  |10 |1.4239575725917942E-5|5.303890211507678E-4 |0.0                  |\n",
      "|6  |13 |4.249758735049285E-5 |0.0014025315176695585|0.0                  |\n",
      "|36 |6  |9.380286052925942E-4 |0.0013458288740366697|0.0                  |\n",
      "|23 |18 |0.010771378579811093 |0.024730166420340538 |0.0                  |\n",
      "+---+---+---------------------+---------------------+---------------------+\n",
      "only showing top 10 rows\n",
      "\n",
      "CPU times: user 4.14 ms, sys: 0 ns, total: 4.14 ms\n",
      "Wall time: 1.06 s\n"
     ]
    }
   ],
   "source": [
    "%%time\n",
    "burn_probability_df_tiled.select(\"x\", \"y\",\"mean_bp\",\"max_bp\",\"min_bp\").show(10,truncate=False)"
   ]
  },
  {
   "cell_type": "markdown",
   "id": "23861c4f-8c92-4b9b-8003-48bfa6f30cb4",
   "metadata": {},
   "source": [
    "# 3. H3 Hexagonal Grid Units"
   ]
  },
  {
   "cell_type": "markdown",
   "id": "61d1eff3-9065-4f12-86ca-9b74f9333dbe",
   "metadata": {},
   "source": [
    "### Creating H3 Hexagonal Grid Units\n",
    "\n",
    "To analyze wildfire risk systematically, we'll divide our study area into uniform hexagonal cells using Uber's H3 spatial indexing system. We use H3 level 6 hexagons, which are approximately 36 km² each - large enough to capture meaningful patterns but small enough for detailed analysis.\n",
    "\n",
    "The SQL query below performs several steps:\n",
    "1. Generates H3 cell IDs that cover our burn probability raster tiles \n",
    "2. Converts these IDs into geometric hexagons\n",
    "3. Filters out hexagons that intersect with our exclusion area\n",
    "4. Caches the result for faster subsequent operations\n",
    "\n",
    "The resulting hexagonal grid will serve as our fundamental analysis units for calculating risk factors. We repartition the data into 15 partitions to optimize parallel processing across our cluster."
   ]
  },
  {
   "cell_type": "code",
   "execution_count": 5,
   "id": "852add5d-99cf-4ab0-b9ba-c4e87ab25b20",
   "metadata": {
    "execution": {
     "iopub.execute_input": "2025-09-14T23:32:11.038251Z",
     "iopub.status.busy": "2025-09-14T23:32:11.038107Z",
     "iopub.status.idle": "2025-09-14T23:32:20.559762Z",
     "shell.execute_reply": "2025-09-14T23:32:20.559195Z",
     "shell.execute_reply.started": "2025-09-14T23:32:11.038237Z"
    }
   },
   "outputs": [
    {
     "name": "stderr",
     "output_type": "stream",
     "text": [
      "[Stage 17:=======================================================>(95 + 1) / 96]\r"
     ]
    },
    {
     "name": "stdout",
     "output_type": "stream",
     "text": [
      "CPU times: user 21.5 ms, sys: 1.27 ms, total: 22.8 ms\n",
      "Wall time: 9.52 s\n"
     ]
    },
    {
     "name": "stderr",
     "output_type": "stream",
     "text": [
      "                                                                                \r"
     ]
    },
    {
     "data": {
      "text/plain": [
       "1456"
      ]
     },
     "execution_count": 5,
     "metadata": {},
     "output_type": "execute_result"
    }
   ],
   "source": [
    "%%time\n",
    "# 9.79 s\n",
    "h3_level=6\n",
    "\n",
    "hex_df = sedona.sql(f\"\"\" \n",
    "    WITH \n",
    "        h3_ids AS (\n",
    "            SELECT \n",
    "               DISTINCT EXPLODE(ST_H3CellIDs(RS_Envelope(rast), {h3_level}, true)) AS h3 \n",
    "            FROM \n",
    "                burn_probability_tiled),\n",
    "        \n",
    "        exp_h3 as (\n",
    "            SELECT \n",
    "                h3,\n",
    "                EXPLODE (ST_H3ToGeom(ARRAY(h3))) AS geometry\n",
    "            FROM \n",
    "                h3_ids)\n",
    "    \n",
    "    SELECT * FROM exp_h3 \n",
    "    WHERE ST_INTERSECTS(geometry, ST_GEOMFROMWKT('{exclusion_wkt}')) = False\n",
    "\"\"\").repartition(15).cache()\n",
    "\n",
    "hex_df.createOrReplaceTempView(\"mapping_units\")\n",
    "hex_df.count()"
   ]
  },
  {
   "cell_type": "markdown",
   "id": "1f925406-04c9-4ad9-b625-a0f3d87e3d69",
   "metadata": {},
   "source": [
    "### Visualizing Our Analysis Framework\n",
    "\n",
    "Let's create an interactive map to visualize two key components of our analysis setup:\n",
    "\n",
    "1. The H3 hexagonal grid we created earlier (our analysis units)\n",
    "2. The 256x256 burn probability tiles\n",
    "\n",
    "This visualization helps us verify:\n",
    "- The coverage and size of our H3 hexagons\n",
    "- The distribution of our raster tiles\n",
    "- How these two spatial frameworks overlap\n",
    "- That our exclusion area is properly removed\n",
    "\n",
    "The map creation involves:\n",
    "1. Creating a new base map using SedonaKepler\n",
    "2. Adding the H3 hexagonal grid layer\n",
    "3. Adding the burn probability tiles after:\n",
    "  - Converting each tile to its envelope (bounding box) using RS_Envelope\n",
    "  - Calculating the area of each tile using ST_AREA\n",
    "\n",
    "This visual check helps ensure our spatial frameworks are properly aligned before proceeding with the analysis."
   ]
  },
  {
   "cell_type": "code",
   "execution_count": 6,
   "id": "a14cede6-af42-4570-9d34-4b95a8079ec6",
   "metadata": {
    "execution": {
     "iopub.execute_input": "2025-09-14T23:32:20.560600Z",
     "iopub.status.busy": "2025-09-14T23:32:20.560401Z",
     "iopub.status.idle": "2025-09-14T23:32:20.564559Z",
     "shell.execute_reply": "2025-09-14T23:32:20.563872Z",
     "shell.execute_reply.started": "2025-09-14T23:32:20.560580Z"
    }
   },
   "outputs": [
    {
     "name": "stdout",
     "output_type": "stream",
     "text": [
      "root\n",
      " |-- rast: raster (nullable = true)\n",
      " |-- x: integer (nullable = true)\n",
      " |-- y: integer (nullable = true)\n",
      " |-- name: string (nullable = true)\n",
      " |-- max_bp: double (nullable = true)\n",
      " |-- mean_bp: double (nullable = true)\n",
      " |-- min_bp: double (nullable = true)\n",
      "\n"
     ]
    }
   ],
   "source": [
    "burn_probability_df_tiled.printSchema()"
   ]
  },
  {
   "cell_type": "code",
   "execution_count": 7,
   "id": "193c9781-ef98-488d-a5e8-abcc8c906a10",
   "metadata": {
    "execution": {
     "iopub.execute_input": "2025-09-14T23:32:20.565543Z",
     "iopub.status.busy": "2025-09-14T23:32:20.565351Z",
     "iopub.status.idle": "2025-09-14T23:32:32.108249Z",
     "shell.execute_reply": "2025-09-14T23:32:32.107759Z",
     "shell.execute_reply.started": "2025-09-14T23:32:20.565524Z"
    }
   },
   "outputs": [
    {
     "name": "stderr",
     "output_type": "stream",
     "text": [
      "                                                                                \r"
     ]
    },
    {
     "data": {
      "application/vnd.jupyter.widget-view+json": {
       "model_id": "850517268df2439d8d7878a2b31245e4",
       "version_major": 2,
       "version_minor": 0
      },
      "text/plain": [
       "KeplerGl(data={'h3': {'index': [0, 1, 2, 3, 4, 5, 6, 7, 8, 9, 10, 11, 12, 13, 14, 15, 16, 17, 18, 19, 20, 21, …"
      ]
     },
     "execution_count": 7,
     "metadata": {},
     "output_type": "execute_result"
    }
   ],
   "source": [
    "tiledMap = SedonaKepler.create_map()\n",
    "SedonaKepler.add_df(tiledMap, hex_df, name=\"h3\")\n",
    "SedonaKepler.add_df(tiledMap, burn_probability_df_tiled.withColumn(\"tile\", expr(\"RS_Envelope(rast)\")).withColumn(\"area\",expr(\"ST_AREA(tile)\")), name=\"tiles\")\n",
    "tiledMap"
   ]
  },
  {
   "cell_type": "markdown",
   "id": "e1fca5c0-6e8d-4439-a655-6e1cac4390bb",
   "metadata": {},
   "source": [
    "# 4. Calculate Building Density\n",
    "\n",
    "In this section we will use the Overture Maps Foundation Buildings dataset to calculate building density metric for our composit risk score.  \n"
   ]
  },
  {
   "cell_type": "code",
   "execution_count": 8,
   "id": "58cf1b94-7564-4fda-90d6-b2ac43e8ac3d",
   "metadata": {
    "execution": {
     "iopub.execute_input": "2025-09-14T23:32:32.109101Z",
     "iopub.status.busy": "2025-09-14T23:32:32.108840Z",
     "iopub.status.idle": "2025-09-14T23:32:32.111980Z",
     "shell.execute_reply": "2025-09-14T23:32:32.111488Z",
     "shell.execute_reply.started": "2025-09-14T23:32:32.109086Z"
    }
   },
   "outputs": [
    {
     "name": "stdout",
     "output_type": "stream",
     "text": [
      "root\n",
      " |-- h3: long (nullable = true)\n",
      " |-- geometry: geometry (nullable = true)\n",
      "\n"
     ]
    }
   ],
   "source": [
    "hex_df.printSchema()"
   ]
  },
  {
   "cell_type": "markdown",
   "id": "97cc1425-79be-4c96-93a5-edc3a431cc66",
   "metadata": {},
   "source": [
    "### Creating a Single Study Area Geometry\n",
    "\n",
    "Let's combine all our H3 hexagons into a single geometry that represents our complete study area. This unified geometry will be useful for:\n",
    "\n",
    "1. Spatial filtering of our building and fire station data\n",
    "2. Ensuring consistent coverage across datasets\n",
    "3. Reducing processing time by quickly filtering out irrelevant features\n",
    "\n",
    "We use ST_Union_Aggr to dissolve all hexagon boundaries, creating one multipolygon. The .collect()[0].geom syntax retrieves this geometry from the distributed dataframe into a single Python object we can reference in subsequent queries.\n",
    "\n",
    "This operation essentially creates the boundary of our analysis area by unifying the geometries of all our H3 hexagons that don't intersect with our exclusion areas."
   ]
  },
  {
   "cell_type": "code",
   "execution_count": 9,
   "id": "bf4c6ce0-d97c-4802-a476-fc9102735003",
   "metadata": {
    "execution": {
     "iopub.execute_input": "2025-09-14T23:32:32.112736Z",
     "iopub.status.busy": "2025-09-14T23:32:32.112562Z",
     "iopub.status.idle": "2025-09-14T23:32:33.006584Z",
     "shell.execute_reply": "2025-09-14T23:32:33.005807Z",
     "shell.execute_reply.started": "2025-09-14T23:32:32.112717Z"
    }
   },
   "outputs": [
    {
     "name": "stdout",
     "output_type": "stream",
     "text": [
      "CPU times: user 0 ns, sys: 4.18 ms, total: 4.18 ms\n",
      "Wall time: 817 ms\n"
     ]
    }
   ],
   "source": [
    "%%time\n",
    "\n",
    "aoi_geom = sedona.sql(\"\"\"SELECT ST_Union_Aggr(geometry) AS geom\n",
    "    FROM mapping_units\"\"\").collect()[0].geom"
   ]
  },
  {
   "cell_type": "markdown",
   "id": "d9adce21-fc32-47ad-a6f4-e11e3eb2a832",
   "metadata": {},
   "source": [
    "### Loading Building Data for the Study Area\n",
    "\n",
    "Now we'll extract building footprints from the Overture Maps database that fall within our study area. Instead of processing all buildings in the database, we use spatial filtering to get only the buildings we need:\n",
    "\n",
    "1. We read from the Wherobots-hosted Overture Maps building layer\n",
    "2. We select just the building ID and geometry\n",
    "3. We use ST_WITHIN to keep only buildings that fall inside our study area geometry\n",
    "\n",
    "This spatial filter significantly reduces the data we need to process in subsequent steps. The ST_WITHIN function ensures we only get buildings completely contained within our study area boundary, as opposed to buildings that might just intersect it.\n",
    "\n",
    "The Wall time of 10.3 seconds shows how Sedona efficiently handles this spatial query across what could be millions of building footprints."
   ]
  },
  {
   "cell_type": "code",
   "execution_count": 10,
   "id": "6f0bea3b-02f8-462b-9469-b63418d101bc",
   "metadata": {
    "execution": {
     "iopub.execute_input": "2025-09-14T23:32:33.007474Z",
     "iopub.status.busy": "2025-09-14T23:32:33.007273Z",
     "iopub.status.idle": "2025-09-14T23:32:37.171963Z",
     "shell.execute_reply": "2025-09-14T23:32:37.171406Z",
     "shell.execute_reply.started": "2025-09-14T23:32:33.007453Z"
    }
   },
   "outputs": [
    {
     "name": "stdout",
     "output_type": "stream",
     "text": [
      "CPU times: user 0 ns, sys: 2.99 ms, total: 2.99 ms\n",
      "Wall time: 4.16 s\n"
     ]
    }
   ],
   "source": [
    "%%time\n",
    "#Wall time: 10.3 s\n",
    "aoi_buildings_df = sedona.sql(\n",
    "f\"\"\"\n",
    "SELECT \n",
    "    ID, geometry\n",
    "FROM \n",
    "    wherobots_open_data.overture_maps_foundation.buildings_building\n",
    "WHERE \n",
    "    ST_WITHIN(geometry,ST_GEOMFROMWKT('{aoi_geom}')) \"\"\")"
   ]
  },
  {
   "cell_type": "code",
   "execution_count": 11,
   "id": "65245c99-f9c9-40bd-ab13-1063843f22ee",
   "metadata": {
    "execution": {
     "iopub.execute_input": "2025-09-14T23:32:37.172861Z",
     "iopub.status.busy": "2025-09-14T23:32:37.172666Z",
     "iopub.status.idle": "2025-09-14T23:32:45.026321Z",
     "shell.execute_reply": "2025-09-14T23:32:45.025832Z",
     "shell.execute_reply.started": "2025-09-14T23:32:37.172841Z"
    }
   },
   "outputs": [
    {
     "name": "stderr",
     "output_type": "stream",
     "text": [
      "[Stage 50:======================================================> (29 + 1) / 30]\r"
     ]
    },
    {
     "name": "stdout",
     "output_type": "stream",
     "text": [
      "CPU times: user 6.4 ms, sys: 5.44 ms, total: 11.8 ms\n",
      "Wall time: 7.85 s\n"
     ]
    },
    {
     "name": "stderr",
     "output_type": "stream",
     "text": [
      "                                                                                \r"
     ]
    },
    {
     "data": {
      "text/plain": [
       "8324176"
      ]
     },
     "execution_count": 11,
     "metadata": {},
     "output_type": "execute_result"
    }
   ],
   "source": [
    "%%time\n",
    "#aoi_buildings_df = aoi_buildings_df.repartition(100)\n",
    "aoi_buildings_df.createOrReplaceTempView('aoi_buildings')\n",
    "aoi_buildings_df.count()"
   ]
  },
  {
   "cell_type": "markdown",
   "id": "6c512292-9d3a-4647-ba3c-4f689ad3e1a2",
   "metadata": {},
   "source": [
    "### Calculating Building Density Per Hexagon\n",
    "\n",
    "For each H3 hexagon in our study area, we'll calculate two key metrics about buildings:\n",
    "\n",
    "1. Building Count: The total number of buildings in each hexagon\n",
    "2. Building Density: The ratio of total building footprint area to hexagon area\n",
    "\n",
    "The SQL query joins our H3 hexagons with buildings using a spatial relationship. We count a building as being in a hexagon if its centroid (center point) falls within the hexagon. This avoids double-counting buildings that might straddle hexagon boundaries.\n",
    "\n",
    "For density calculation:\n",
    "- Numerator: Sum of all building footprint areas in the hexagon (using ST_AreaSpheroid for accurate area calculations on a spheroid)\n",
    "- Denominator: Area of the hexagon itself\n",
    "- Result: A ratio between 0 and 1, where higher values indicate more built-up areas\n",
    "\n",
    "This building density metric will be an important factor in our wildfire risk assessment, as areas with higher building density typically represent greater potential loss in a fire event."
   ]
  },
  {
   "cell_type": "code",
   "execution_count": 12,
   "id": "c39a8f19-70e4-4de8-aa7d-cabed4c9bb3b",
   "metadata": {
    "execution": {
     "iopub.execute_input": "2025-09-14T23:32:45.027116Z",
     "iopub.status.busy": "2025-09-14T23:32:45.026898Z",
     "iopub.status.idle": "2025-09-14T23:32:45.071927Z",
     "shell.execute_reply": "2025-09-14T23:32:45.071398Z",
     "shell.execute_reply.started": "2025-09-14T23:32:45.027096Z"
    }
   },
   "outputs": [
    {
     "name": "stdout",
     "output_type": "stream",
     "text": [
      "CPU times: user 1.49 ms, sys: 0 ns, total: 1.49 ms\n",
      "Wall time: 41.5 ms\n"
     ]
    }
   ],
   "source": [
    "%%time\n",
    "building_density_df = sedona.sql(\n",
    "\"\"\"\n",
    "SELECT \n",
    "    t1.h3,\n",
    "    t1.geometry,\n",
    "    COUNT(t2.ID) building_count,\n",
    "    (SUM(ST_AreaSpheroid(t2.geometry))/ST_AreaSpheroid(t1.geometry)) building_density\n",
    "FROM \n",
    "    mapping_units t1\n",
    " JOIN\n",
    "    aoi_buildings t2\n",
    "ON\n",
    "    ST_INTERSECTS(t1.geometry,ST_CENTROID(t2.geometry))\n",
    "GROUP BY\n",
    "    t1.h3,\n",
    "    t1.geometry\n",
    "\"\"\" \n",
    ")\n",
    "building_density_df.createOrReplaceTempView(\"building_density\")"
   ]
  },
  {
   "cell_type": "code",
   "execution_count": 13,
   "id": "f137d6bc-bdc1-4903-b5f8-b55277f38808",
   "metadata": {
    "execution": {
     "iopub.execute_input": "2025-09-14T23:32:45.072821Z",
     "iopub.status.busy": "2025-09-14T23:32:45.072630Z",
     "iopub.status.idle": "2025-09-14T23:33:01.329949Z",
     "shell.execute_reply": "2025-09-14T23:33:01.329360Z",
     "shell.execute_reply.started": "2025-09-14T23:32:45.072802Z"
    }
   },
   "outputs": [
    {
     "name": "stderr",
     "output_type": "stream",
     "text": [
      "[Stage 59:=========================================>          (794 + 24) / 1000]\r"
     ]
    },
    {
     "name": "stdout",
     "output_type": "stream",
     "text": [
      "+------------------+--------------------+--------------+--------------------+\n",
      "|                h3|            geometry|building_count|    building_density|\n",
      "+------------------+--------------------+--------------+--------------------+\n",
      "|604214660782096383|POLYGON ((-117.52...|           212|0.001042046518309...|\n",
      "|604214731917492223|POLYGON ((-118.64...|          3340| 0.01747436372001797|\n",
      "|604214681854279679|POLYGON ((-117.04...|          3676|0.022689137848988142|\n",
      "|604755114636345343|POLYGON ((-116.10...|            31|9.219054189333367E-5|\n",
      "|604214931365036031|POLYGON ((-117.22...|         16238| 0.10162872500996421|\n",
      "|604214694470746111|POLYGON ((-118.43...|          5167|   0.027380507426555|\n",
      "|604215049745072127|POLYGON ((-116.45...|          1091| 0.00522290871543986|\n",
      "|604214698094624767|POLYGON ((-118.46...|          6149|  0.1371750712106065|\n",
      "|604215001158254591|POLYGON ((-118.07...|         12563| 0.10546007676249752|\n",
      "|604755113428385791|POLYGON ((-116.56...|            21|4.951939591689331E-5|\n",
      "|604214640112566271|POLYGON ((-117.42...|           642|0.002325457364249...|\n",
      "|604755114904780799|POLYGON ((-116.20...|          1075|0.001178942805415207|\n",
      "|604214906803191807|POLYGON ((-117.09...|         31959| 0.16286256458866927|\n",
      "|604214681048973311|POLYGON ((-116.78...|           840|0.003784472850969717|\n",
      "|604214680109449215|POLYGON ((-116.92...|            92|2.903341515228168E-4|\n",
      "|604215094439575551|POLYGON ((-115.76...|            12|7.244844756447169E-4|\n",
      "|604215077259706367|POLYGON ((-116.28...|            32|6.011376828015874E-5|\n",
      "|604755134097915903|POLYGON ((-115.89...|            12|1.364882620198970...|\n",
      "|604214644273315839|POLYGON ((-116.57...|            25|9.852128958758521E-5|\n",
      "|604214994581585919|POLYGON ((-118.18...|         40511| 0.22844367086361878|\n",
      "+------------------+--------------------+--------------+--------------------+\n",
      "only showing top 20 rows\n",
      "\n",
      "CPU times: user 20.2 ms, sys: 1.52 ms, total: 21.7 ms\n",
      "Wall time: 16.2 s\n"
     ]
    },
    {
     "name": "stderr",
     "output_type": "stream",
     "text": [
      "                                                                                \r"
     ]
    }
   ],
   "source": [
    "%%time\n",
    "#Wall time: 2min 24s\n",
    "#Wall time: 39min 23s\n",
    "building_density_df = building_density_df.cache()\n",
    "\n",
    "building_density_df.show(20)"
   ]
  },
  {
   "cell_type": "markdown",
   "id": "cfe6c238-5b7d-446e-b334-01a809736084",
   "metadata": {},
   "source": [
    "### Combining Building Metrics with Burn Probability Data\n",
    "\n",
    "Now we'll merge our building metrics with the burn probability data to create a more comprehensive picture of risk. For each H3 hexagon, we combine:\n",
    "\n",
    "1. Previously calculated building metrics:\n",
    "  - Building count \n",
    "  - Building density\n",
    "\n",
    "2. Burn probability statistics from all raster tiles that intersect each hexagon:\n",
    "  - Maximum burn probability (worst case)\n",
    "  - Minimum burn probability (best case)\n",
    "  - Average burn probability (typical case)\n",
    "  - Range of burn probabilities (variability within hexagon)\n",
    "\n",
    "The spatial join uses ST_INTERSECTS with RS_ENVELOPE to find which raster tiles overlap each hexagon. We aggregate these tiles' statistics to get a complete picture of burn probability for each hexagon.\n",
    "\n",
    "The query takes about a minute to run, which is reasonable given the spatial complexity. We cache the results since we'll use them multiple times in subsequent analysis steps."
   ]
  },
  {
   "cell_type": "code",
   "execution_count": 14,
   "id": "5ab45709-0557-46df-bf00-14c6136431c9",
   "metadata": {
    "execution": {
     "iopub.execute_input": "2025-09-14T23:33:01.332391Z",
     "iopub.status.busy": "2025-09-14T23:33:01.332148Z",
     "iopub.status.idle": "2025-09-14T23:33:13.170123Z",
     "shell.execute_reply": "2025-09-14T23:33:13.169558Z",
     "shell.execute_reply.started": "2025-09-14T23:33:01.332370Z"
    }
   },
   "outputs": [
    {
     "name": "stderr",
     "output_type": "stream",
     "text": [
      "[Stage 73:=================================================>  (959 + 24) / 1000]\r"
     ]
    },
    {
     "name": "stdout",
     "output_type": "stream",
     "text": [
      "+------------------+--------------------+--------------+--------------------+--------------------+--------------------+--------------------+--------------------+\n",
      "|                h3|            geometry|building_count|    building_density|              max_bp|              min_bp|             mean_bp|            range_bp|\n",
      "+------------------+--------------------+--------------+--------------------+--------------------+--------------------+--------------------+--------------------+\n",
      "|604214659574136831|POLYGON ((-117.33...|           888|0.007746056266217991| 0.10265446454286575|                 0.0| 0.05161579037182323| 0.10265446454286575|\n",
      "|604214647091888127|POLYGON ((-116.77...|           642|0.002961006118760...| 0.09019006043672562|                 0.0|0.039032730602953654| 0.09019006043672562|\n",
      "|604215086789165055|POLYGON ((-116.40...|           111|  2.9500974982111E-4|0.050787221640348434|                 0.0|0.006850700174079933|0.050787221640348434|\n",
      "|604215039141871615|POLYGON ((-116.16...|             2|1.179827811351859...|0.007028510794043541|                 0.0|0.001511966181716...|0.007028510794043541|\n",
      "|604214650984202239|POLYGON ((-116.99...|           315|0.001245549727685...|0.051842328161001205|                 0.0|0.013684388015443805|0.051842328161001205|\n",
      "|604214955121573887|POLYGON ((-116.92...|          2978| 0.01720559692106387|  0.0464307963848114|                 0.0|0.015011077595168405|  0.0464307963848114|\n",
      "|604214662258491391|POLYGON ((-117.16...|         14700| 0.09067850291746189|0.022086411714553833|                 0.0|0.003907009756049...|0.022086411714553833|\n",
      "|604214646152364031|POLYGON ((-116.71...|           114|3.008605508572158E-4|0.030048174783587456|6.591924466192722E-4|0.010297426705418219|0.029388982336968184|\n",
      "|604755135842746367|POLYGON ((-115.75...|            35|5.483118203475464E-5|9.049715590663254E-4|                 0.0|1.080092846374659E-4|9.049715590663254E-4|\n",
      "|604214799965880319|POLYGON ((-116.21...|             4|5.343003364543582E-5|3.886456543114036...|                 0.0|3.169259049389962E-5|3.886456543114036...|\n",
      "|604214911903465471|POLYGON ((-117.53...|            16| 2.45332287141332E-5|0.019177183508872986|                 0.0|0.003353949983673344|0.019177183508872986|\n",
      "|604214636220252159|POLYGON ((-117.45...|            39|2.189180077068069...| 0.04141777381300926|                 0.0|0.020398880047679677| 0.04141777381300926|\n",
      "|604214903581966335|POLYGON ((-117.25...|          7193| 0.05492527548409758|0.003824396291747...|                 0.0|3.318274445184945...|0.003824396291747...|\n",
      "|604214636086034431|POLYGON ((-117.38...|          3939|0.031019946555622045|0.005538850091397762|                 0.0|7.596614437283945E-4|0.005538850091397762|\n",
      "|604214747486748671|POLYGON ((-117.94...|            90|2.529050222679518...|  0.0491032749414444|                 0.0| 0.02039711567871078|  0.0491032749414444|\n",
      "|604214871503929343|POLYGON ((-117.70...|           244|9.777359164498825E-4|0.001966284587979...|                 0.0|7.583727053891102E-4|0.001966284587979...|\n",
      "|604214638099300351|POLYGON ((-117.47...|         18470| 0.11589961193515917| 0.05503670871257782|                 0.0|0.011034179624821016| 0.05503670871257782|\n",
      "|604214923043536895|POLYGON ((-116.96...|         17454| 0.13723236959097057|0.021627524867653847|                 0.0| 0.00363138395259087|0.021627524867653847|\n",
      "|604214951631912959|POLYGON ((-116.78...|         70697| 0.06290977061587368| 0.02147664688527584|0.015385743230581284|0.018562995927966192|0.006090903654694557|\n",
      "|604214910963941375|POLYGON ((-117.42...|           450|0.007397627475492953|0.024730166420340538|                 0.0|0.008624243184448675|0.024730166420340538|\n",
      "+------------------+--------------------+--------------+--------------------+--------------------+--------------------+--------------------+--------------------+\n",
      "only showing top 20 rows\n",
      "\n",
      "CPU times: user 26.5 ms, sys: 916 μs, total: 27.4 ms\n",
      "Wall time: 11.8 s\n"
     ]
    },
    {
     "name": "stderr",
     "output_type": "stream",
     "text": [
      "                                                                                \r"
     ]
    }
   ],
   "source": [
    "%%time\n",
    "#Wall time: 1min 1s\n",
    "max_burn_df = sedona.sql(f\"\"\"\n",
    "\n",
    "SELECT\n",
    "    t1.h3,\n",
    "    t1.geometry,\n",
    "    t1.building_count,\n",
    "    t1.building_density,\n",
    "    MAX(t2.max_bp) as max_bp, \n",
    "    MIN(t2.min_bp) as min_bp,\n",
    "    AVG(t2.mean_bp) as mean_bp,\n",
    "    MAX(t2.max_bp) - MIN(t2.min_bp) AS range_bp\n",
    "\n",
    "FROM \n",
    "    building_density t1\n",
    " JOIN\n",
    "  burn_probability_tiled t2\n",
    "ON ST_INTERSECTS(t1.geometry,RS_ENVELOPE(t2.rast))\n",
    "GROUP BY \n",
    "1,2,3,4\n",
    "\n",
    "\n",
    "\"\"\")\n",
    "max_burn_df = max_burn_df.cache()\n",
    "max_burn_df.createOrReplaceTempView(\"max_burn\")\n",
    "max_burn_df.show()"
   ]
  },
  {
   "cell_type": "code",
   "execution_count": 15,
   "id": "81602f96-422e-4d4b-9e5f-de041f5c8479",
   "metadata": {
    "execution": {
     "iopub.execute_input": "2025-09-14T23:33:13.170913Z",
     "iopub.status.busy": "2025-09-14T23:33:13.170691Z",
     "iopub.status.idle": "2025-09-14T23:33:13.194649Z",
     "shell.execute_reply": "2025-09-14T23:33:13.194252Z",
     "shell.execute_reply.started": "2025-09-14T23:33:13.170893Z"
    }
   },
   "outputs": [
    {
     "data": {
      "text/plain": [
       "DataFrame[h3: bigint, geometry: udt, building_count: bigint, building_density: double]"
      ]
     },
     "execution_count": 15,
     "metadata": {},
     "output_type": "execute_result"
    }
   ],
   "source": [
    "building_density_df.unpersist()"
   ]
  },
  {
   "cell_type": "code",
   "execution_count": 16,
   "id": "2925706e-e1a2-465c-b84a-15d334d149b1",
   "metadata": {
    "execution": {
     "iopub.execute_input": "2025-09-14T23:33:13.195362Z",
     "iopub.status.busy": "2025-09-14T23:33:13.195158Z",
     "iopub.status.idle": "2025-09-14T23:33:13.251819Z",
     "shell.execute_reply": "2025-09-14T23:33:13.251265Z",
     "shell.execute_reply.started": "2025-09-14T23:33:13.195343Z"
    }
   },
   "outputs": [
    {
     "name": "stdout",
     "output_type": "stream",
     "text": [
      "root\n",
      " |-- h3: long (nullable = true)\n",
      " |-- geometry: geometry (nullable = true)\n",
      " |-- building_count: long (nullable = false)\n",
      " |-- building_density: double (nullable = true)\n",
      " |-- max_bp: double (nullable = true)\n",
      " |-- min_bp: double (nullable = true)\n",
      " |-- mean_bp: double (nullable = true)\n",
      " |-- range_bp: double (nullable = true)\n",
      "\n"
     ]
    }
   ],
   "source": [
    "max_burn_df.printSchema()"
   ]
  },
  {
   "cell_type": "markdown",
   "id": "d139fa34-5786-4fa7-a316-c499e2e3e533",
   "metadata": {},
   "source": [
    "# 5. KNN join \n",
    "We extract all the fire stations by primary catagory and using our AOI for spatial filter pushdown. \n"
   ]
  },
  {
   "cell_type": "markdown",
   "id": "e0fa3a47-90bb-4e5d-a734-fb2a2d50fb93",
   "metadata": {},
   "source": [
    "### Loading Fire Station Locations\n",
    "\n",
    "Another crucial factor in wildfire risk assessment is proximity to emergency services. We'll extract fire station locations from the Overture Maps places dataset, which includes various point-of-interest categories.\n",
    "\n",
    "The query:\n",
    "1. Reads from Overture's places table (2024-07 release)\n",
    "2. Filters to include only locations categorized as fire departments\n",
    "3. Uses ST_WITHIN to select only fire stations within our study area\n",
    "4. Creates a temporary view for use in subsequent proximity analysis\n",
    "\n",
    "When assessing wildfire risk, areas further from fire stations may face longer response times during an emergency, potentially increasing their risk level. In our next steps, we'll calculate distances from each hexagon to the nearest fire station.\n",
    "\n",
    "Note: The query shows Overture's hierarchical category system in action - instead of searching for an exact string match, we're checking the 'primary' category field for 'fire_department'."
   ]
  },
  {
   "cell_type": "code",
   "execution_count": 17,
   "id": "fc6660b6-e9e5-425d-87f9-393d8055790a",
   "metadata": {
    "execution": {
     "iopub.execute_input": "2025-09-14T23:33:13.252675Z",
     "iopub.status.busy": "2025-09-14T23:33:13.252491Z",
     "iopub.status.idle": "2025-09-14T23:33:14.927106Z",
     "shell.execute_reply": "2025-09-14T23:33:14.926539Z",
     "shell.execute_reply.started": "2025-09-14T23:33:13.252656Z"
    }
   },
   "outputs": [
    {
     "name": "stderr",
     "output_type": "stream",
     "text": [
      "[Stage 83:>                                                         (0 + 5) / 5]\r"
     ]
    },
    {
     "name": "stdout",
     "output_type": "stream",
     "text": [
      "CPU times: user 3.23 ms, sys: 485 μs, total: 3.72 ms\n",
      "Wall time: 1.6 s\n"
     ]
    },
    {
     "name": "stderr",
     "output_type": "stream",
     "text": [
      "                                                                                \r"
     ]
    }
   ],
   "source": [
    "%%time\n",
    "fire_stateion_df = sedona.sql(f\"\"\"\n",
    "    SELECT * FROM \n",
    "        wherobots_open_data.overture_maps_foundation.places_place  \n",
    "    WHERE \n",
    "        categories.primary IN ('fire_department')\n",
    "    AND\n",
    "        ST_WITHIN(geometry,ST_GEOMFROMWKT('{aoi_geom}'))\n",
    "\"\"\")\n",
    "fire_stateion_df.count()\n",
    "fire_stateion_df.createOrReplaceTempView(\"fire_stations\")"
   ]
  },
  {
   "cell_type": "markdown",
   "id": "1c844799-0ba4-4dc6-86e9-e9b82ae6c71d",
   "metadata": {},
   "source": [
    "### Calculating Distance to Nearest Fire Station\n",
    "\n",
    "For each hexagon in our study area, we'll identify the closest fire station and calculate the distance to it. This creates another key risk factor - areas further from fire stations may face longer emergency response times.\n",
    "\n",
    "The query uses several spatial functions:\n",
    "1. ST_AKNN: A spatial K-Nearest Neighbor join that finds the closest fire station to each hexagon (K=1)\n",
    "2. ST_DISTANCESPHERE: Calculates the true spherical distance between each hexagon and its nearest fire station\n",
    "3. ST_CENTROID: Gets the center point of each hexagon\n",
    "4. ST_MAKELINE: Creates a line connecting each hexagon center to its nearest fire station (useful for visualization)\n",
    "\n",
    "The output includes:\n",
    "- SOURCE_GEOM: The hexagon geometry\n",
    "- h3: The hexagon ID\n",
    "- sink_GEOM: The fire station location\n",
    "- DISTANCE: Distance in meters to nearest station\n",
    "- LINE: A visual connection between hexagon and station\n",
    "\n",
    "This distance metric will be an important factor in our composite risk score, as it directly relates to emergency response capabilities."
   ]
  },
  {
   "cell_type": "code",
   "execution_count": 18,
   "id": "29d93673-409f-4bf1-aa9c-e2c1ff8bc469",
   "metadata": {
    "execution": {
     "iopub.execute_input": "2025-09-14T23:33:14.928025Z",
     "iopub.status.busy": "2025-09-14T23:33:14.927828Z",
     "iopub.status.idle": "2025-09-14T23:33:14.953495Z",
     "shell.execute_reply": "2025-09-14T23:33:14.953077Z",
     "shell.execute_reply.started": "2025-09-14T23:33:14.928004Z"
    }
   },
   "outputs": [
    {
     "name": "stdout",
     "output_type": "stream",
     "text": [
      "CPU times: user 1.17 ms, sys: 0 ns, total: 1.17 ms\n",
      "Wall time: 22.5 ms\n"
     ]
    }
   ],
   "source": [
    "%%time\n",
    "df_knn_join = sedona.sql(\"\"\"\n",
    "    SELECT\n",
    "        source.GEOMETRY AS SOURCE_GEOM,\n",
    "        SOURCE.h3 AS h3,\n",
    "        sink.GEOMETRY AS sink_GEOM,\n",
    "        ST_DISTANCESPHERE(source.GEOMETRY, sink.GEOMETRY) AS DISTANCE,\n",
    "        ST_MAKELINE(ST_CENTROID(source.GEOMETRY), sink.GEOMETRY) AS LINE\n",
    "    FROM max_burn source\n",
    "\n",
    "    JOIN fire_stations sink ON ST_AKNN(source.GEOMETRY, sink.GEOMETRY, 1, FALSE)\n",
    "\"\"\")\n"
   ]
  },
  {
   "cell_type": "markdown",
   "id": "18634353-b2df-4931-873d-edc213fa8a6e",
   "metadata": {},
   "source": [
    "### Cleaning Up the Nearest Fire Station Results\n",
    "\n",
    "The KNN join might produce some duplicate results when hexagons are equidistant from multiple fire stations. We'll clean up these results in two steps:\n",
    "\n",
    "1. Create a dataset with just one fire station per hexagon:\n",
    "  - Use dropDuplicates on SOURCE_GEOM to keep just one result per hexagon\n",
    "  \n",
    "2. Join this unique set back to our original results:\n",
    "  - Ensures we maintain all our calculated fields\n",
    "  - Keeps our data structure consistent\n",
    "  - Removes any unwanted duplicates\n",
    "\n",
    "We cache both the unique and joined results since we'll use them multiple times in our risk calculations. The final count tells us how many hexagon-to-fire-station relationships we'll be working with.\n",
    "\n",
    "This cleaned dataset gives us a one-to-one relationship between hexagons and their nearest fire stations, which is what we want for our risk assessment."
   ]
  },
  {
   "cell_type": "code",
   "execution_count": 19,
   "id": "0716729a-e7f1-45f6-b6de-f148d8daa42f",
   "metadata": {
    "execution": {
     "iopub.execute_input": "2025-09-14T23:33:14.954208Z",
     "iopub.status.busy": "2025-09-14T23:33:14.954031Z",
     "iopub.status.idle": "2025-09-14T23:33:22.668598Z",
     "shell.execute_reply": "2025-09-14T23:33:22.668045Z",
     "shell.execute_reply.started": "2025-09-14T23:33:14.954190Z"
    },
    "scrolled": true
   },
   "outputs": [
    {
     "name": "stdout",
     "output_type": "stream",
     "text": [
      "Warning: One or more filter pushdowns have been detected on the object side of the KNN join. \n",
      "These filters will be applied to the object side reader before the KNN join is executed. \n",
      "If you intend to apply the filters after the KNN join, please ensure that you materialize the KNN join results before applying the filters. \n",
      "For example, you can use the following approach:\n",
      "\n",
      "Scala Example:\n",
      "val knnResult = knnJoinDF.cache()\n",
      "val filteredResult = knnResult.filter(condition)\n",
      "\n",
      "SQL Example:\n",
      "CREATE OR REPLACE TEMP VIEW knnResult AS\n",
      "SELECT * FROM (\n",
      "  -- Your KNN join SQL here\n",
      ") AS knnView\n",
      "CACHE TABLE knnResult;\n",
      "SELECT * FROM knnResult WHERE condition;\n",
      "Warning: One or more filter pushdowns have been detected on the object side of the KNN join. \n",
      "These filters will be applied to the object side reader before the KNN join is executed. \n",
      "If you intend to apply the filters after the KNN join, please ensure that you materialize the KNN join results before applying the filters. \n",
      "For example, you can use the following approach:\n",
      "\n",
      "Scala Example:\n",
      "val knnResult = knnJoinDF.cache()\n",
      "val filteredResult = knnResult.filter(condition)\n",
      "\n",
      "SQL Example:\n",
      "CREATE OR REPLACE TEMP VIEW knnResult AS\n",
      "SELECT * FROM (\n",
      "  -- Your KNN join SQL here\n",
      ") AS knnView\n",
      "CACHE TABLE knnResult;\n",
      "SELECT * FROM knnResult WHERE condition;\n",
      "Warning: One or more filter pushdowns have been detected on the object side of the KNN join. \n",
      "These filters will be applied to the object side reader before the KNN join is executed. \n",
      "If you intend to apply the filters after the KNN join, please ensure that you materialize the KNN join results before applying the filters. \n",
      "For example, you can use the following approach:\n",
      "\n",
      "Scala Example:\n",
      "val knnResult = knnJoinDF.cache()\n",
      "val filteredResult = knnResult.filter(condition)\n",
      "\n",
      "SQL Example:\n",
      "CREATE OR REPLACE TEMP VIEW knnResult AS\n",
      "SELECT * FROM (\n",
      "  -- Your KNN join SQL here\n",
      ") AS knnView\n",
      "CACHE TABLE knnResult;\n",
      "SELECT * FROM knnResult WHERE condition;\n"
     ]
    },
    {
     "name": "stderr",
     "output_type": "stream",
     "text": [
      "[Stage 93:==============================================>           (4 + 1) / 5]\r"
     ]
    },
    {
     "name": "stdout",
     "output_type": "stream",
     "text": [
      "Warning: One or more filter pushdowns have been detected on the object side of the KNN join. \n",
      "These filters will be applied to the object side reader before the KNN join is executed. \n",
      "If you intend to apply the filters after the KNN join, please ensure that you materialize the KNN join results before applying the filters. \n",
      "For example, you can use the following approach:\n",
      "\n",
      "Scala Example:\n",
      "val knnResult = knnJoinDF.cache()\n",
      "val filteredResult = knnResult.filter(condition)\n",
      "\n",
      "SQL Example:\n",
      "CREATE OR REPLACE TEMP VIEW knnResult AS\n",
      "SELECT * FROM (\n",
      "  -- Your KNN join SQL here\n",
      ") AS knnView\n",
      "CACHE TABLE knnResult;\n",
      "SELECT * FROM knnResult WHERE condition;\n"
     ]
    },
    {
     "name": "stderr",
     "output_type": "stream",
     "text": [
      "                                                                                \r"
     ]
    },
    {
     "name": "stdout",
     "output_type": "stream",
     "text": [
      "CPU times: user 15.1 ms, sys: 678 μs, total: 15.8 ms\n",
      "Wall time: 7.66 s\n"
     ]
    },
    {
     "data": {
      "text/plain": [
       "1101"
      ]
     },
     "execution_count": 19,
     "metadata": {},
     "output_type": "execute_result"
    }
   ],
   "source": [
    "%%time\n",
    "# Wall time: 1min 56s\n",
    "# Select N unique QID rows\n",
    "df_unique_qid = df_knn_join.dropDuplicates([\"SOURCE_GEOM\"])\n",
    "\n",
    "# Perform an inner join to get all rows from join_df that have QIDs in unique_qid_df\n",
    "df_related_rows = df_knn_join.join(df_unique_qid, on=\"h3\", how=\"inner\").select(df_knn_join[\"*\"])\n",
    "\n",
    "df_unique_qid.cache()\n",
    "df_related_rows.cache()\n",
    "df_related_rows.createOrReplaceTempView(\"fire_station_distance\")\n",
    "df_related_rows.count()"
   ]
  },
  {
   "cell_type": "code",
   "execution_count": 20,
   "id": "551f9214-fce8-4ea1-a68b-d6c2b66a68ed",
   "metadata": {
    "execution": {
     "iopub.execute_input": "2025-09-14T23:33:22.669276Z",
     "iopub.status.busy": "2025-09-14T23:33:22.669111Z",
     "iopub.status.idle": "2025-09-14T23:33:22.920268Z",
     "shell.execute_reply": "2025-09-14T23:33:22.919656Z",
     "shell.execute_reply.started": "2025-09-14T23:33:22.669260Z"
    }
   },
   "outputs": [
    {
     "name": "stdout",
     "output_type": "stream",
     "text": [
      "+--------------------+------------------+--------------------+------------------+--------------------+\n",
      "|         SOURCE_GEOM|                h3|           sink_GEOM|          DISTANCE|                LINE|\n",
      "+--------------------+------------------+--------------------+------------------+--------------------+\n",
      "|POLYGON ((-118.53...|604214731514839039|POINT (-118.53636...|1756.1248502033416|LINESTRING (-118....|\n",
      "|POLYGON ((-116.01...|604755134769004543|POINT (-115.99441...|15959.845548939582|LINESTRING (-116....|\n",
      "|POLYGON ((-118.21...|604214997937029119|POINT (-118.24752...|3490.9830839994133|LINESTRING (-118....|\n",
      "|POLYGON ((-116.52...|604215083836375039|POINT (-116.44805...| 9005.413226266133|LINESTRING (-116....|\n",
      "|POLYGON ((-116.26...|604215076051746815|POINT (-116.42244...|14794.136559968048|LINESTRING (-116....|\n",
      "+--------------------+------------------+--------------------+------------------+--------------------+\n",
      "only showing top 5 rows\n",
      "\n"
     ]
    }
   ],
   "source": [
    "df_unique_qid.show(5)"
   ]
  },
  {
   "cell_type": "code",
   "execution_count": 21,
   "id": "43fde20f-ea8b-470a-8bb8-091de2437291",
   "metadata": {
    "execution": {
     "iopub.execute_input": "2025-09-14T23:33:22.921011Z",
     "iopub.status.busy": "2025-09-14T23:33:22.920837Z",
     "iopub.status.idle": "2025-09-14T23:33:25.209124Z",
     "shell.execute_reply": "2025-09-14T23:33:25.208526Z",
     "shell.execute_reply.started": "2025-09-14T23:33:22.920993Z"
    }
   },
   "outputs": [
    {
     "data": {
      "application/vnd.jupyter.widget-view+json": {
       "model_id": "bb8c291dc79643f7b48e42e151d6a5bd",
       "version_major": 2,
       "version_minor": 0
      },
      "text/plain": [
       "KeplerGl(data={'SOURCE': {'index': [0, 1, 2, 3, 4, 5, 6, 7, 8, 9, 10, 11, 12, 13, 14, 15, 16, 17, 18, 19, 20, …"
      ]
     },
     "execution_count": 21,
     "metadata": {},
     "output_type": "execute_result"
    }
   ],
   "source": [
    "# create map for the results\n",
    "map_view = SedonaKepler.create_map(df_unique_qid.select('SOURCE_GEOM'), name=\"SOURCE\")\n",
    "SedonaKepler.add_df(map_view, df=df_related_rows.select('SINK_GEOM', 'DISTANCE').withColumnRenamed(\"SINK_GEOM\", \"geometry\"), name=\"SINK\")\n",
    "SedonaKepler.add_df(map_view, df=df_related_rows.select('LINE', 'DISTANCE').withColumnRenamed(\"LINE\", \"geometry\"), name=\"KNN LINES\")\n",
    "\n",
    "# show the map\n",
    "map_view"
   ]
  },
  {
   "cell_type": "markdown",
   "id": "19befa3e-e295-4cfb-b954-81eed52c9235",
   "metadata": {},
   "source": [
    "# 6. Generate Risk Scores\n",
    "\n",
    "With these risk factors collected, we can now weight them and generate our final risk score.\n",
    "\n",
    "Feel free to play around with different weights. Just make sure they sum to `1`"
   ]
  },
  {
   "cell_type": "markdown",
   "id": "d006a41c-425d-43bc-a244-51d674b02867",
   "metadata": {},
   "source": [
    "### Creating the Final Weighted Risk Score\n",
    "\n",
    "Now we'll combine all our risk factors into a single composite risk score. First, we define weights for each factor, ensuring they sum to 1.0:\n",
    "\n",
    "- Building count (15%): Number of structures at risk\n",
    "- Building density (20%): Concentration of development\n",
    "- Maximum burn probability (20%): Worst-case fire scenario\n",
    "- Minimum burn probability (5%): Best-case fire scenario\n",
    "- Range of burn probability (10%): Variability in fire risk\n",
    "- Mean burn probability (10%): Average fire risk\n",
    "- Distance to fire stations (20%): Emergency response capability\n",
    "\n",
    "The SQL query performs several steps:\n",
    "1. Joins fire station distances with our burn probability and building metrics\n",
    "2. Calculates min/max values for each metric across all hexagons\n",
    "3. Normalizes each metric to a 0-1 scale using (value - min)/(max - min)\n",
    "4. Applies the weights to each normalized metric\n",
    "5. Sums the weighted metrics for a final risk score between 0-1\n",
    "\n",
    "The normalization ensures we can meaningfully combine metrics that are on different scales (like building counts and probabilities). Higher final scores indicate areas of greater overall wildfire risk.\n",
    "\n",
    "We cache the results for efficient access in subsequent analysis and visualization steps."
   ]
  },
  {
   "cell_type": "code",
   "execution_count": 22,
   "id": "d2a05ef7-8bd2-4969-bd01-01ea4247afa5",
   "metadata": {
    "execution": {
     "iopub.execute_input": "2025-09-14T23:33:25.209980Z",
     "iopub.status.busy": "2025-09-14T23:33:25.209811Z",
     "iopub.status.idle": "2025-09-14T23:33:25.403913Z",
     "shell.execute_reply": "2025-09-14T23:33:25.403404Z",
     "shell.execute_reply.started": "2025-09-14T23:33:25.209964Z"
    }
   },
   "outputs": [
    {
     "name": "stdout",
     "output_type": "stream",
     "text": [
      "CPU times: user 1.66 ms, sys: 260 μs, total: 1.92 ms\n",
      "Wall time: 189 ms\n"
     ]
    }
   ],
   "source": [
    "%%time\n",
    "weights = {\n",
    "\"norm_building_count\" : .15,\n",
    "\"norm_building_density\" : .2,\n",
    "\"norm_max_bp\" : .2,\n",
    "\"norm_min_bp\" : .05,\n",
    "\"norm_range_bp\" : .1,\n",
    "\"norm_mean_bp\" : .1,\n",
    "\"from_distance_ff\" : .2\n",
    "}\n",
    "\n",
    "norm_df = sedona.sql(f\"\"\"\n",
    "with max_burn_ff_dist AS (\n",
    "\n",
    "    SELECT \n",
    "        t1.*,\n",
    "        t2.DISTANCE\n",
    "    FROM \n",
    "        max_burn t1\n",
    "    JOIN\n",
    "        fire_station_distance t2\n",
    "    USING (h3)\n",
    "\n",
    "),\n",
    "\n",
    "\n",
    " min_max AS (\n",
    "    SELECT\n",
    "       MIN(building_count) AS min_building_count,\n",
    "        MAX(building_count) AS max_building_count,\n",
    "        MIN(building_density) AS min_building_density,\n",
    "        MAX(building_density) AS max_building_density,\n",
    "        MIN(max_bp) AS min_max_bp,\n",
    "        MAX(max_bp) AS max_max_bp,\n",
    "        MIN(min_bp) AS min_min_bp,\n",
    "        MAX(min_bp) AS max_min_bp,\n",
    "        MIN(range_bp) AS min_range_bp,\n",
    "        MAX(range_bp) AS max_range_bp,\n",
    "        MIN(mean_bp) AS min_mean_bp,\n",
    "        MAX(mean_bp) AS max_mean_bp,\n",
    "        MIN(DISTANCE) AS min_dist_ff,\n",
    "        MAX(DISTANCE) AS max_dist_ff\n",
    "    FROM \n",
    "        max_burn_ff_dist),\n",
    "\n",
    "normalized_data AS (\n",
    "    SELECT\n",
    "        t1.h3,\n",
    "        t1.geometry,\n",
    "        (t1.building_count - s.min_building_count) / (s.max_building_count - s.min_building_count) AS norm_building_count,\n",
    "        (t1.building_density - s.min_building_density) /  (s.max_building_density - s.min_building_density) AS norm_building_density,\n",
    "        (t1.max_bp - s.min_max_bp) /     (s.max_max_bp - s.min_max_bp) AS norm_max_bp,\n",
    "        (t1.min_bp - s.min_min_bp) /     (s.max_min_bp - s.min_min_bp) AS norm_min_bp,\n",
    "        (t1.range_bp - s.min_range_bp) / (s.max_range_bp - s.min_range_bp) AS norm_range_bp,\n",
    "        (t1.mean_bp - s.min_mean_bp) /  (s.max_mean_bp - s.min_mean_bp) AS norm_mean_bp,\n",
    "        (t1.DISTANCE - s.min_dist_ff) /  (s.max_dist_ff - s.min_dist_ff) AS norm_distance_bp\n",
    "    FROM\n",
    "        max_burn_ff_dist t1, MIN_MAX s\n",
    "        )\n",
    "-- Now add the weights to the normalized columns\n",
    "SELECT\n",
    "    h3,\n",
    "    geometry,\n",
    "    norm_building_count * {weights['norm_building_count']} AS weighted_norm_building_count,\n",
    "    COALESCE(norm_building_density,0) * {weights['norm_building_density']}  AS weighted_norm_building_density,\n",
    "    norm_max_bp * {weights['norm_max_bp']}  AS weighted_norm_max_bp,\n",
    "    norm_min_bp * {weights['norm_min_bp']}  AS weighted_norm_min_bp,\n",
    "    norm_range_bp * {weights['norm_range_bp']}  AS weighted_norm_range_bp,\n",
    "    norm_mean_bp * {weights['norm_mean_bp']}  AS weighted_norm_mean_bp,\n",
    "    norm_distance_bp * {weights['from_distance_ff']}  AS weighted_norm_distance_bp,\n",
    "    -- Optional: Aggregate all weighted scores for a final score if needed\n",
    "    (norm_building_count * {weights['norm_building_count']}  + \n",
    "     norm_building_density * {weights['norm_building_density']}  + \n",
    "     norm_max_bp * {weights['norm_max_bp']}  + \n",
    "     norm_min_bp * {weights['norm_min_bp']}  + \n",
    "     norm_range_bp * {weights['norm_range_bp']} +\n",
    "     norm_mean_bp * {weights['norm_mean_bp']} +\n",
    "     norm_distance_bp * {weights['from_distance_ff']} ) AS total_weighted_score\n",
    "FROM normalized_data\n",
    "\n",
    "\"\"\")\n",
    "norm_df =norm_df.cache()"
   ]
  },
  {
   "cell_type": "code",
   "execution_count": 23,
   "id": "fcf23a13-1790-4613-90e6-64d6ffa52774",
   "metadata": {
    "execution": {
     "iopub.execute_input": "2025-09-14T23:33:25.404776Z",
     "iopub.status.busy": "2025-09-14T23:33:25.404571Z",
     "iopub.status.idle": "2025-09-14T23:33:28.127955Z",
     "shell.execute_reply": "2025-09-14T23:33:28.127376Z",
     "shell.execute_reply.started": "2025-09-14T23:33:25.404755Z"
    }
   },
   "outputs": [
    {
     "name": "stderr",
     "output_type": "stream",
     "text": [
      "                                                                                \r"
     ]
    },
    {
     "name": "stdout",
     "output_type": "stream",
     "text": [
      "+------------------+--------------------+\n",
      "|                h3|total_weighted_score|\n",
      "+------------------+--------------------+\n",
      "|604215074038480895| 0.08626870280455891|\n",
      "|604214927875375103| 0.24640960064895798|\n",
      "|604214717958848511|  0.0804916086065132|\n",
      "|604214681988497407|  0.1272767842400594|\n",
      "|604214797415743487| 0.02530707364203897|\n",
      "|604755131681996799|0.030181474615308256|\n",
      "|604214988541788159| 0.04714184254956568|\n",
      "|604215048671330303|0.031570527827502554|\n",
      "|604755132621520895|  0.0556016137598665|\n",
      "|604214745473482751|  0.1416786678167719|\n",
      "+------------------+--------------------+\n",
      "only showing top 10 rows\n",
      "\n"
     ]
    }
   ],
   "source": [
    "norm_df.select(\"h3\",\"total_weighted_score\").show(10)"
   ]
  },
  {
   "cell_type": "code",
   "execution_count": 24,
   "id": "61058fad-5aee-4223-9986-7b42d4748008",
   "metadata": {
    "execution": {
     "iopub.execute_input": "2025-09-14T23:33:28.128721Z",
     "iopub.status.busy": "2025-09-14T23:33:28.128533Z",
     "iopub.status.idle": "2025-09-14T23:33:28.140381Z",
     "shell.execute_reply": "2025-09-14T23:33:28.139875Z",
     "shell.execute_reply.started": "2025-09-14T23:33:28.128699Z"
    }
   },
   "outputs": [
    {
     "data": {
      "text/plain": [
       "DataFrame[h3: bigint, geometry: udt, building_count: bigint, building_density: double, max_bp: double, min_bp: double, mean_bp: double, range_bp: double]"
      ]
     },
     "execution_count": 24,
     "metadata": {},
     "output_type": "execute_result"
    }
   ],
   "source": [
    "max_burn_df.unpersist()"
   ]
  },
  {
   "cell_type": "markdown",
   "id": "8d6758e9-9087-41dc-b8e5-f09fc6a439b9",
   "metadata": {},
   "source": [
    "### Make a map of the normalized risk factors\n",
    "\n",
    "Create a choropleth map of the differetn risk factors and final risk score. Do any of the engineered features show a pattern?"
   ]
  },
  {
   "cell_type": "code",
   "execution_count": 25,
   "id": "ced005f6-5cca-4df7-b899-06cc7e5baca5",
   "metadata": {
    "execution": {
     "iopub.execute_input": "2025-09-14T23:33:28.141084Z",
     "iopub.status.busy": "2025-09-14T23:33:28.140936Z",
     "iopub.status.idle": "2025-09-14T23:33:29.517827Z",
     "shell.execute_reply": "2025-09-14T23:33:29.517458Z",
     "shell.execute_reply.started": "2025-09-14T23:33:28.141071Z"
    }
   },
   "outputs": [
    {
     "data": {
      "application/vnd.jupyter.widget-view+json": {
       "model_id": "3e6a73c41db742fc9afd4ea0af6d40ca",
       "version_major": 2,
       "version_minor": 0
      },
      "text/plain": [
       "KeplerGl(data={'Weighted Score': {'index': [0, 1, 2, 3, 4, 5, 6, 7, 8, 9, 10, 11, 12, 13, 14, 15, 16, 17, 18, …"
      ]
     },
     "execution_count": 25,
     "metadata": {},
     "output_type": "execute_result"
    }
   ],
   "source": [
    "tiledMap = SedonaKepler.create_map()\n",
    "SedonaKepler.add_df(tiledMap, norm_df, name=\"Weighted Score\")\n",
    "tiledMap"
   ]
  },
  {
   "cell_type": "code",
   "execution_count": 26,
   "id": "846bc305-b019-4be8-894a-95407fc87b52",
   "metadata": {
    "execution": {
     "iopub.execute_input": "2025-09-14T23:33:29.518462Z",
     "iopub.status.busy": "2025-09-14T23:33:29.518343Z",
     "iopub.status.idle": "2025-09-14T23:33:29.520905Z",
     "shell.execute_reply": "2025-09-14T23:33:29.520582Z",
     "shell.execute_reply.started": "2025-09-14T23:33:29.518450Z"
    }
   },
   "outputs": [
    {
     "name": "stdout",
     "output_type": "stream",
     "text": [
      "root\n",
      " |-- h3: long (nullable = true)\n",
      " |-- geometry: geometry (nullable = true)\n",
      " |-- weighted_norm_building_count: double (nullable = true)\n",
      " |-- weighted_norm_building_density: double (nullable = false)\n",
      " |-- weighted_norm_max_bp: double (nullable = true)\n",
      " |-- weighted_norm_min_bp: double (nullable = true)\n",
      " |-- weighted_norm_range_bp: double (nullable = true)\n",
      " |-- weighted_norm_mean_bp: double (nullable = true)\n",
      " |-- weighted_norm_distance_bp: double (nullable = true)\n",
      " |-- total_weighted_score: double (nullable = true)\n",
      "\n"
     ]
    }
   ],
   "source": [
    "norm_df.printSchema()"
   ]
  },
  {
   "cell_type": "markdown",
   "id": "3778ef46-5da9-433f-adf1-cce042436919",
   "metadata": {},
   "source": [
    "# 7. Examine Risk factors for Clusters\n",
    "\n",
    "Getis-Ord  local Hot Spot analysis\n",
    "\n",
    "https://docs.wherobots.com/latest/tutorials/wherobotsai/hotspot-detection/getis_ord/?h=geti"
   ]
  },
  {
   "cell_type": "markdown",
   "id": "0ce1bcc4-dfd3-4c6f-95be-1c54932aff08",
   "metadata": {},
   "source": [
    "### Hot Spot Analysis Using Getis-Ord Statistics\n",
    "\n",
    "After calculating our risk scores, we'll perform a hot spot analysis to identify statistically significant clusters of high-risk and low-risk areas. We use the Getis-Ord Gi* statistic, which tells us whether high or low values cluster together spatially.\n",
    "\n",
    "The analysis involves:\n",
    "1. Creating a spatial weights matrix:\n",
    "  - distance_band_radius = 0.01 degrees (approximately 1.1km)\n",
    "  - Binary weighting (1 if within radius, 0 if not)\n",
    "  - Including each hexagon in its own calculation\n",
    "\n",
    "2. Running Getis-Ord Gi* on our weighted_norm_distance_bp metric\n",
    "  - Positive Z-scores: Clusters of high values (hot spots)\n",
    "  - Negative Z-scores: Clusters of low values (cold spots)\n",
    "  - P-values tell us the statistical significance\n",
    "\n",
    "The results include:\n",
    "- G: The Gi* statistic\n",
    "- EG: Expected value of G\n",
    "- VG: Variance of G\n",
    "- Z: Z-score (how many standard deviations from the mean)\n",
    "- P: P-value (statistical significance)\n",
    "\n",
    "Try running this analysis on different risk factors by changing the metric after \"weighted_norm_\" in the g_local function!"
   ]
  },
  {
   "cell_type": "code",
   "execution_count": 27,
   "id": "511ce02b-78e1-43cc-bf78-0bac12e35fbd",
   "metadata": {
    "execution": {
     "iopub.execute_input": "2025-09-14T23:33:29.521425Z",
     "iopub.status.busy": "2025-09-14T23:33:29.521316Z",
     "iopub.status.idle": "2025-09-14T23:33:33.207811Z",
     "shell.execute_reply": "2025-09-14T23:33:33.207195Z",
     "shell.execute_reply.started": "2025-09-14T23:33:29.521414Z"
    }
   },
   "outputs": [
    {
     "name": "stderr",
     "output_type": "stream",
     "text": [
      "<timed exec>:2: DeprecationWarning: Importing from 'sedona.stats.hotspot_detection.getis_ord' is deprecated. Please use 'sedona.spark.stats.hotspot_detection.getis_ord' instead.\n",
      "<timed exec>:3: DeprecationWarning: Importing from 'sedona.stats.weighting' is deprecated. Please use 'sedona.spark.stats.weighting' instead.\n",
      "                                                                                \r"
     ]
    },
    {
     "name": "stdout",
     "output_type": "stream",
     "text": [
      "CPU times: user 0 ns, sys: 8.86 ms, total: 8.86 ms\n",
      "Wall time: 3.61 s\n"
     ]
    }
   ],
   "source": [
    "%%time\n",
    "#Wall time: 9.39 s\n",
    "from sedona.stats.hotspot_detection.getis_ord import g_local\n",
    "from sedona.stats.weighting import add_binary_distance_band_column\n",
    "from sedona.stats.weighting import add_distance_band_column\n",
    "\n",
    "distance_band_radius = .01\n",
    "\n",
    "gi_df = g_local(\n",
    "    add_distance_band_column( # adds the \"weights\" columns\n",
    "        norm_df,\n",
    "        distance_band_radius,\n",
    "        binary=True,\n",
    "        include_self=True,\n",
    "        self_weight=1.0\n",
    "    ),\n",
    "    \"weighted_norm_distance_bp\", ## <--------- TEST DIFFERENT RISK FACTORS HERE\n",
    "    \"weights\",\n",
    "    star=True\n",
    ").drop(\"weights\")\\\n",
    ".drop(\"h3CellGeom\")"
   ]
  },
  {
   "cell_type": "code",
   "execution_count": 28,
   "id": "cc0cea4d-1315-45c8-bff1-28ca02f132a3",
   "metadata": {
    "execution": {
     "iopub.execute_input": "2025-09-14T23:33:33.208735Z",
     "iopub.status.busy": "2025-09-14T23:33:33.208518Z",
     "iopub.status.idle": "2025-09-14T23:33:36.420083Z",
     "shell.execute_reply": "2025-09-14T23:33:36.419496Z",
     "shell.execute_reply.started": "2025-09-14T23:33:33.208698Z"
    }
   },
   "outputs": [
    {
     "name": "stderr",
     "output_type": "stream",
     "text": [
      "[Stage 181:=========================================>         (819 + 24) / 1000]\r"
     ]
    },
    {
     "name": "stdout",
     "output_type": "stream",
     "text": [
      "+------------------+--------------------+----------------------------+------------------------------+--------------------+--------------------+----------------------+---------------------+-------------------------+--------------------+--------------------+--------------------+--------------------+-------------------+--------------------+\n",
      "|                h3|            geometry|weighted_norm_building_count|weighted_norm_building_density|weighted_norm_max_bp|weighted_norm_min_bp|weighted_norm_range_bp|weighted_norm_mean_bp|weighted_norm_distance_bp|total_weighted_score|                   G|                  EG|                  VG|                  Z|                   P|\n",
      "+------------------+--------------------+----------------------------+------------------------------+--------------------+--------------------+----------------------+---------------------+-------------------------+--------------------+--------------------+--------------------+--------------------+-------------------+--------------------+\n",
      "|604214694470746111|POLYGON ((-118.43...|        0.003819951098316047|           0.01626217823564035|  0.0219866568573074|8.064618077674786E-5|  0.010969586155883115| 0.003323556811664...|     0.007607771900919...| 0.06405034724050757|2.689173828779917E-4|9.082652134423251E-4|8.959845760378306E-7|-0.6754402376874938|  0.2496980541862488|\n",
      "|604215094305357823|POLYGON ((-115.88...|        1.109161178372835...|          0.001760522352424...|7.916154111665742E-4|                 0.0|  3.958077055832871E-4| 1.023924412481648E-5|      0.10397723223910789| 0.10694650856419104|0.003675357980863...|9.082652134423251E-4|8.959845760378306E-7| 2.9233004433297434|0.001731710755019...|\n",
      "+------------------+--------------------+----------------------------+------------------------------+--------------------+--------------------+----------------------+---------------------+-------------------------+--------------------+--------------------+--------------------+--------------------+-------------------+--------------------+\n",
      "only showing top 2 rows\n",
      "\n"
     ]
    },
    {
     "name": "stderr",
     "output_type": "stream",
     "text": [
      "                                                                                \r"
     ]
    }
   ],
   "source": [
    "gi_df.show(2)"
   ]
  },
  {
   "cell_type": "markdown",
   "id": "12c6be1e-cf74-4d9a-b815-d4646046813d",
   "metadata": {},
   "source": [
    "#### Make a map and symbolize by Z value and the P score\n",
    "For the visual below you'll need to make some adjustments to get the best result:\n",
    "- Change the tooltip to only show Z and P values\n",
    "- Set the Fill Color to use a hot/cold color ramp based on the value of the Z-score\n",
    "\n",
    "For interpreting the map:\n",
    "- A positive Z score indicates a higher burn risk cluster\n",
    "- A negative Z scores indicates a lower burn risk cluster\n",
    "- The lower the P-score, the more statistically valid a cluster is"
   ]
  },
  {
   "cell_type": "code",
   "execution_count": 29,
   "id": "3a3ec143-d9d6-4e87-a11d-9cc4503b0e26",
   "metadata": {
    "execution": {
     "iopub.execute_input": "2025-09-14T23:33:36.420891Z",
     "iopub.status.busy": "2025-09-14T23:33:36.420709Z",
     "iopub.status.idle": "2025-09-14T23:33:39.638513Z",
     "shell.execute_reply": "2025-09-14T23:33:39.638125Z",
     "shell.execute_reply.started": "2025-09-14T23:33:36.420873Z"
    }
   },
   "outputs": [
    {
     "name": "stderr",
     "output_type": "stream",
     "text": [
      "                                                                                \r"
     ]
    },
    {
     "data": {
      "application/vnd.jupyter.widget-view+json": {
       "model_id": "ce2f5cc57027440ab570b26cd404c72e",
       "version_major": 2,
       "version_minor": 0
      },
      "text/plain": [
       "KeplerGl(data={'Weighted Score': {'index': [0, 1, 2, 3, 4, 5, 6, 7, 8, 9, 10, 11, 12, 13, 14, 15, 16, 17, 18, …"
      ]
     },
     "execution_count": 29,
     "metadata": {},
     "output_type": "execute_result"
    }
   ],
   "source": [
    "tiledMap = SedonaKepler.create_map()\n",
    "SedonaKepler.add_df(tiledMap, gi_df, name=\"Weighted Score\")\n",
    "tiledMap"
   ]
  },
  {
   "cell_type": "code",
   "execution_count": 30,
   "id": "55310890-7cf2-43b4-8cba-8731e8ae1582",
   "metadata": {
    "execution": {
     "iopub.execute_input": "2025-09-14T23:33:39.639121Z",
     "iopub.status.busy": "2025-09-14T23:33:39.639000Z",
     "iopub.status.idle": "2025-09-14T23:33:39.641927Z",
     "shell.execute_reply": "2025-09-14T23:33:39.641482Z",
     "shell.execute_reply.started": "2025-09-14T23:33:39.639109Z"
    }
   },
   "outputs": [
    {
     "name": "stdout",
     "output_type": "stream",
     "text": [
      "Context Start Time: 0:00:00.027031\n",
      "Analysis Time: 0:00:01.769897\n",
      "Total Time: 0:00:01.796929\n"
     ]
    }
   ],
   "source": [
    "print(f\"Context Start Time: {(analysis_start-start)/60}\")\n",
    "print(f\"Analysis Time: {(datetime.now()-analysis_start)/60}\")\n",
    "print(f\"Total Time: {((analysis_start-start)/60) + ((datetime.now()-analysis_start)/60)}\")\n"
   ]
  },
  {
   "cell_type": "markdown",
   "id": "2a2c3242-2eb1-43d6-bc56-9de8ef3f9fec",
   "metadata": {},
   "source": [
    "## References\n",
    "- https://wildfirerisk.org/download/\n",
    "- https://www.fs.usda.gov/rds/archive/catalog/RDS-2020-0016-2"
   ]
  },
  {
   "cell_type": "code",
   "execution_count": null,
   "id": "555467b9-1997-48b3-8944-77b7b3b5d5aa",
   "metadata": {},
   "outputs": [],
   "source": []
  }
 ],
 "metadata": {
  "kernelspec": {
   "display_name": "Python 3 (ipykernel)",
   "language": "python",
   "name": "python3"
  },
  "language_info": {
   "codemirror_mode": {
    "name": "ipython",
    "version": 3
   },
   "file_extension": ".py",
   "mimetype": "text/x-python",
   "name": "python",
   "nbconvert_exporter": "python",
   "pygments_lexer": "ipython3",
   "version": "3.11.13"
  }
 },
 "nbformat": 4,
 "nbformat_minor": 5
}
